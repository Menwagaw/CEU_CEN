{
 "cells": [
  {
   "cell_type": "code",
   "execution_count": 1,
   "metadata": {},
   "outputs": [
    {
     "name": "stdout",
     "output_type": "stream",
     "text": [
      "Intel MKL WARNING: Support of Intel(R) Streaming SIMD Extensions 4.2 (Intel(R) SSE4.2) enabled only processors has been deprecated. Intel oneAPI Math Kernel Library 2025.0 will require Intel(R) Advanced Vector Extensions (Intel(R) AVX) instructions.\n",
      "Intel MKL WARNING: Support of Intel(R) Streaming SIMD Extensions 4.2 (Intel(R) SSE4.2) enabled only processors has been deprecated. Intel oneAPI Math Kernel Library 2025.0 will require Intel(R) Advanced Vector Extensions (Intel(R) AVX) instructions.\n"
     ]
    },
    {
     "name": "stderr",
     "output_type": "stream",
     "text": [
      "/Users/tianyl/opt/anaconda3/lib/python3.9/site-packages/tigramite/data_processing.py:1133: NumbaDeprecationWarning: \u001b[1mThe 'nopython' keyword argument was not supplied to the 'numba.jit' decorator. The implicit default value for this argument is currently False, but it will be changed to True in Numba 0.59.0. See https://numba.readthedocs.io/en/stable/reference/deprecation.html#deprecation-of-object-mode-fall-back-behaviour-when-using-jit for details.\u001b[0m\n",
      "  def _get_patterns(array, array_mask, patt, patt_mask, weights, dim, step, fac, N, T):\n",
      "/Users/tianyl/opt/anaconda3/lib/python3.9/site-packages/tigramite/plotting.py:26: UserWarning: [Errno 2] No such file or directory: '/Users/tianyl/opt/anaconda3/lib/python3.9/site-packages/tigramite/../versions.py'\n",
      "  warnings.warn(str(e))\n",
      "/Users/tianyl/opt/anaconda3/lib/python3.9/site-packages/tigramite/independence_tests/gpdc.py:27: UserWarning: No module named 'dcor'\n",
      "  warnings.warn(str(e))\n",
      "/Users/tianyl/opt/anaconda3/lib/python3.9/site-packages/tigramite/independence_tests/gpdc_torch.py:33: UserWarning: No module named 'dcor'\n",
      "  warnings.warn(str(e))\n",
      "/Users/tianyl/opt/anaconda3/lib/python3.9/site-packages/tigramite/models.py:29: UserWarning: [Errno 2] No such file or directory: '/Users/tianyl/opt/anaconda3/lib/python3.9/site-packages/tigramite/../versions.py'\n",
      "  warnings.warn(str(e))\n"
     ]
    }
   ],
   "source": [
    "import tigramite\n",
    "from tigramite import data_processing as pp\n",
    "from tigramite import plotting as tp\n",
    "from tigramite.pcmci import PCMCI\n",
    "from tigramite.independence_tests import ParCorr, GPDC, CMIknn, CMIsymb\n",
    "from tigramite.models import LinearMediation, Prediction\n",
    "from scipy import signal\n",
    "from sklearn.linear_model import LinearRegression\n"
   ]
  },
  {
   "cell_type": "code",
   "execution_count": 2,
   "metadata": {},
   "outputs": [],
   "source": [
    "import matplotlib.pyplot as plt\n",
    "import numpy as np\n",
    "import os\n",
    "import cartopy.crs as ccrs\n",
    "from cartopy.mpl.ticker import LongitudeFormatter, LatitudeFormatter\n",
    "\n",
    "import copy\n",
    "from netCDF4 import Dataset, num2date, date2num\n",
    "import more_itertools as mit\n",
    "from scipy import arange, cos, exp\n",
    "from scipy.interpolate import RegularGridInterpolator\n",
    "from numpy import unique\n",
    "from numpy import where\n",
    "from sklearn.datasets import make_classification\n",
    "from sklearn.cluster import KMeans\n",
    "from sklearn import datasets\n",
    "from sklearn import metrics\n",
    "from matplotlib import pyplot\n",
    "import matplotlib.patches as patches\n",
    "from scipy.stats import pearsonr\n",
    "from sklearn.linear_model import LinearRegression\n",
    "\n",
    "import xarray as xr\n",
    "import seaborn as sns\n",
    "\n",
    "from matplotlib.colors import BoundaryNorm\n",
    "from matplotlib.ticker import MaxNLocator\n",
    "\n",
    "\n",
    "from matplotlib import colors as c\n",
    "import matplotlib.patches as mpatches\n",
    "from tslearn.utils import to_time_series_dataset\n",
    "import cartopy.feature as cf\n",
    "from mpl_toolkits.axes_grid1 import make_axes_locatable\n",
    "import matplotlib as mpl\n",
    "\n",
    "\n",
    "from scipy.stats import rankdata\n",
    "# Global Spatial Autocorrelation\n",
    "#from spatial_autocorrelation import get_moransI, moransI_scatterplot, hypothesis_testing\n",
    "# Local Spatial Autocorrelation\n",
    "#from spatial_autocorrelation import get_localMoransI, LISA_scatterplot\n",
    "from scipy.stats import linregress\n",
    "import scipy\n",
    "from sklearn.datasets import load_breast_cancer\n",
    "from sklearn.linear_model import LogisticRegression\n",
    "from sklearn.metrics import roc_auc_score\n",
    "from sklearn.metrics import roc_curve\n",
    "import random\n",
    "import pandas as pd\n",
    "from scipy import stats\n",
    "import pymannkendall as mk\n",
    "from matplotlib.ticker import FormatStrFormatter"
   ]
  },
  {
   "cell_type": "code",
   "execution_count": 3,
   "metadata": {},
   "outputs": [],
   "source": [
    "def p_LinearRegression(X,y):\n",
    "\n",
    "    lm = LinearRegression()\n",
    "    lm.fit(X,y)\n",
    "    params = np.append(lm.intercept_,lm.coef_)\n",
    "    predictions = lm.predict(X)\n",
    "    new_X = np.append(np.ones((len(X),1)), X, axis=1)\n",
    "    M_S_E = (sum((y-predictions)**2))/(len(new_X)-len(new_X[0]))\n",
    "    v_b = M_S_E*(np.linalg.inv(np.dot(new_X.T,new_X)).diagonal())\n",
    "    s_b = np.sqrt(v_b)\n",
    "    t_b = params/ s_b\n",
    "    p_val =[2*(1-stats.t.cdf(np.abs(i),(len(new_X)-len(new_X[0])))) for i in t_b]\n",
    "    p_val = np.round(p_val,3)\n",
    "    return lm.coef_,lm.intercept_,p_val"
   ]
  },
  {
   "cell_type": "code",
   "execution_count": 4,
   "metadata": {},
   "outputs": [],
   "source": [
    "def p_sig(X,y,n_y_out):\n",
    "    s = mk.original_test(y)[7]\n",
    "    n_years_all = len(y)\n",
    "    random.seed(147)\n",
    "    print(random.random()) \n",
    "    #n_y_out = 3\n",
    "    n_trial = 1000\n",
    "    indices_random = np.zeros(( n_trial,n_years_all)) # .astype('bool')\n",
    "    #Generate 5 random numbers between 10 and 30\n",
    "    for i in range(n_trial):\n",
    "        for j in len(n_years_all):\n",
    "            randomlist = random.sample(range(0, n_years_all), 1)\n",
    "            indices_random[i,j] = randomlist\n",
    "    s_all = [] \n",
    "    for mask in indices_random:\n",
    "        s_all.append(mk.original_test([y[int(i)] for i in mask])[7])\n",
    "    s_all = np.array(s_all)\n",
    "    p = (len(s_all[s_all>np.abs(s)])+len(s_all[s_all<-np.abs(s)]))/1000\n",
    "    return s,p\n"
   ]
  },
  {
   "cell_type": "markdown",
   "metadata": {},
   "source": [
    "# land mask, time and spatial information"
   ]
  },
  {
   "cell_type": "code",
   "execution_count": 5,
   "metadata": {},
   "outputs": [
    {
     "name": "stdout",
     "output_type": "stream",
     "text": [
      "[0. 1. 2. 3. 4. 5. 6. 7. 8. 9.]\n"
     ]
    }
   ],
   "source": [
    "\n",
    "NCname = r'/Users/tianyl/Desktop/Study/4_summer school in como/sensitivity test/ERA5_Z500_6h_1979-2020_daymean_del29feb_1x1_5days.nc'\n",
    "NCData = Dataset(NCname)\n",
    "#t2m = NCData.variables['t2m'][:]\n",
    "#t2m[t2m==-32767.] = np.nan\n",
    "print(NCData.variables['lon'][:][:10])\n",
    "time = NCData.variables['time']\n",
    "dates = list(num2date(time[:], time.units, time.calendar))\n",
    "year_era5_all = np.array([date.year for date in dates])\n",
    "mon_era5_all = np.array([date.month for date in dates])\n",
    "day_era5_all = np.array([date.day for date in dates])\n",
    "NCData.close()\n"
   ]
  },
  {
   "cell_type": "code",
   "execution_count": 6,
   "metadata": {},
   "outputs": [],
   "source": [
    "def remove_seasonal(var,yearN,stepN):\n",
    "    var_detrend = np.zeros_like(var)\n",
    "    for i_box in range(stepN):\n",
    "        temp = np.array([var[stepN*i_year+i_box] for i_year in range(yearN)])\n",
    "        temp = temp - np.array(len(temp)*[np.nanmean(temp,axis=0)])\n",
    "        #temp = signal.detrend(temp,axis=0)\n",
    "        for i_year in range(yearN):\n",
    "            var_detrend[stepN*i_year+i_box]  = temp[i_year]\n",
    "    return var_detrend "
   ]
  },
  {
   "cell_type": "code",
   "execution_count": 7,
   "metadata": {},
   "outputs": [],
   "source": [
    "def remove_seasonal_normalized(var,yearN,stepN):\n",
    "    var_detrend = np.zeros_like(var)\n",
    "    for i_box in range(stepN):\n",
    "        temp = np.array([var[stepN*i_year+i_box] for i_year in range(yearN)])\n",
    "        temp = (temp - np.array(len(temp)*[np.nanmean(temp,axis=0)]))/np.array(len(temp)*[np.nanstd(temp,axis=0)])\n",
    "        #temp = signal.detrend(temp,axis=0)\n",
    "        for i_year in range(yearN):\n",
    "            var_detrend[stepN*i_year+i_box]  = temp[i_year]\n",
    "    return var_detrend "
   ]
  },
  {
   "cell_type": "markdown",
   "metadata": {},
   "source": [
    "# Central europe region"
   ]
  },
  {
   "cell_type": "code",
   "execution_count": 8,
   "metadata": {},
   "outputs": [],
   "source": [
    "stepN = len(year_era5_all[year_era5_all==1979])\n",
    "yearN = 42"
   ]
  },
  {
   "cell_type": "code",
   "execution_count": 9,
   "metadata": {
    "vscode": {
     "languageId": "markdown"
    }
   },
   "outputs": [],
   "source": [
    "lb_EU = 3\n",
    "rb_EU = 18\n",
    "bb_EU = 45\n",
    "tb_EU = 55"
   ]
  },
  {
   "cell_type": "markdown",
   "metadata": {},
   "source": [
    "# variables"
   ]
  },
  {
   "cell_type": "code",
   "execution_count": 12,
   "metadata": {},
   "outputs": [],
   "source": [
    "t2m_region_o = np.array(xr.open_dataset('/Users/tianyl/Desktop/Study/4_summer school in como/CEU_CEN_data/t2m_region.nc')['__xarray_dataarray_variable__'][:][:])\n",
    "tp_region_o = np.array(xr.open_dataset('/Users/tianyl/Desktop/Study/4_summer school in como/CEU_CEN_data/tp_region.nc')['__xarray_dataarray_variable__'][:][:])\n",
    "PET_region_o = np.array(xr.open_dataset('/Users/tianyl/Desktop/Study/4_summer school in como/CEU_CEN_data/PET_region.nc')['__xarray_dataarray_variable__'][:][:])\n",
    "WSD_region_o = tp_region_o*1000*24-PET_region_o\n",
    "\n",
    "z500_T_o = np.array(xr.open_dataset('/Users/tianyl/Desktop/Study/4_summer school in como/CEU_CEN_data/z500_T2m_6Waves.nc')['__xarray_dataarray_variable__'][:][:])\n",
    "z500_WSD_o = np.array(xr.open_dataset('/Users/tianyl/Desktop/Study/4_summer school in como/CEU_CEN_data/z500_WSD_6Waves.nc')['__xarray_dataarray_variable__'][:][:])\n",
    "z500_c_o = np.array(xr.open_dataset('/Users/tianyl/Desktop/Study/4_summer school in como/CEU_CEN_data/z500_compound.nc')['__xarray_dataarray_variable__'][:][:])\n"
   ]
  },
  {
   "cell_type": "code",
   "execution_count": 13,
   "metadata": {},
   "outputs": [],
   "source": [
    "t2m_region_de = copy.deepcopy(remove_seasonal(t2m_region_o,yearN,stepN))\n",
    "WSD_region_de = copy.deepcopy(remove_seasonal(tp_region_o*1000*24-PET_region_o,yearN,stepN))\n",
    "HSI_de1 = copy.deepcopy(t2m_region_de)\n",
    "SM_de1 = copy.deepcopy(WSD_region_de)\n"
   ]
  },
  {
   "cell_type": "code",
   "execution_count": 14,
   "metadata": {},
   "outputs": [
    {
     "name": "stdout",
     "output_type": "stream",
     "text": [
      "start week  30\n",
      "time_cycle  73\n",
      "n_steps  19\n"
     ]
    }
   ],
   "source": [
    "print('start week ',np.where((year_era5_all==1979)&(mon_era5_all==6))[0][0])\n",
    "print('time_cycle ',len(np.where((year_era5_all==1979))[0]))\n",
    "print('n_steps ',len(np.where((year_era5_all==1979)&(np.in1d(mon_era5_all,[6,7,8])))[0]))"
   ]
  },
  {
   "cell_type": "code",
   "execution_count": 15,
   "metadata": {},
   "outputs": [],
   "source": [
    "n_years_all = 42\n",
    "time_cycle = 73\n",
    "n_steps =  19\n",
    "start_week = 30 # \n",
    "\n",
    "n_years = n_years_all \n",
    "n_links = 3\n",
    "n_lags = 4 # lags (0 to -3)\n",
    "\n",
    "tau_min = 1\n",
    "tau_max = 3\n",
    "alpha_level_v = 0.05"
   ]
  },
  {
   "cell_type": "code",
   "execution_count": 16,
   "metadata": {},
   "outputs": [
    {
     "data": {
      "text/plain": [
       "3.1695682570409156"
      ]
     },
     "execution_count": 16,
     "metadata": {},
     "output_type": "execute_result"
    }
   ],
   "source": [
    "np.nanmean(t2m_region_de[np.in1d(year_era5_all,2003)&np.in1d(mon_era5_all,8)])"
   ]
  },
  {
   "cell_type": "code",
   "execution_count": 17,
   "metadata": {},
   "outputs": [
    {
     "data": {
      "text/plain": [
       "-2.2466745055103345"
      ]
     },
     "execution_count": 17,
     "metadata": {},
     "output_type": "execute_result"
    }
   ],
   "source": [
    "np.nanmean(WSD_region_de[np.in1d(year_era5_all,2003)&np.in1d(mon_era5_all,8)])"
   ]
  },
  {
   "cell_type": "markdown",
   "metadata": {},
   "source": [
    "# trend of extreme"
   ]
  },
  {
   "cell_type": "code",
   "execution_count": 18,
   "metadata": {},
   "outputs": [
    {
     "data": {
      "text/plain": [
       "2.752371959887339"
      ]
     },
     "execution_count": 18,
     "metadata": {},
     "output_type": "execute_result"
    }
   ],
   "source": [
    "np.nanstd(HSI_de1[np.in1d(mon_era5_all,[6,7,8])])"
   ]
  },
  {
   "cell_type": "code",
   "execution_count": 19,
   "metadata": {},
   "outputs": [
    {
     "data": {
      "text/plain": [
       "-2.4921383399526"
      ]
     },
     "execution_count": 19,
     "metadata": {},
     "output_type": "execute_result"
    }
   ],
   "source": [
    "np.nanmin(WSD_region_de[np.in1d(mon_era5_all,[6,7,8])]/np.nanstd(WSD_region_de[np.in1d(mon_era5_all,[6,7,8])]))"
   ]
  },
  {
   "cell_type": "code",
   "execution_count": 20,
   "metadata": {},
   "outputs": [
    {
     "name": "stderr",
     "output_type": "stream",
     "text": [
      "/var/folders/r1/j7tk96k16m55ct81z5sl6qsm0000gn/T/ipykernel_2777/2298174139.py:17: RuntimeWarning: Mean of empty slice\n",
      "  HSI_index_year2.append(np.nanmean(a[a>=threshold_HSI]))\n",
      "/var/folders/r1/j7tk96k16m55ct81z5sl6qsm0000gn/T/ipykernel_2777/2298174139.py:25: RuntimeWarning: Mean of empty slice\n",
      "  SM_index_year2.append(np.nanmean(a[a<=threshold_SM]))\n"
     ]
    }
   ],
   "source": [
    "HSI_de1 = copy.deepcopy(t2m_region_de)\n",
    "SM_de1 = copy.deepcopy(WSD_region_de)\n",
    "threshold_HSI  =  np.nanpercentile(HSI_de1[np.in1d(mon_era5_all,[6,7,8])],95)\n",
    "threshold_SM  =  np.nanpercentile(SM_de1[np.in1d(mon_era5_all,[6,7,8])],5)\n",
    "HSI_index = np.where(np.in1d(mon_era5_all,[6,7,8]))[0][(HSI_de1[np.in1d(mon_era5_all,[6,7,8])]>=threshold_HSI)]\n",
    "sm_index = np.where(np.in1d(mon_era5_all,[6,7,8]))[0][(SM_de1[np.in1d(mon_era5_all,[6,7,8])]<=threshold_SM)]\n",
    "#Compound_index = np.where(np.in1d(mon_era5_all,[6,7,8]))[0][(HSI_de1[np.in1d(mon_era5_all,[6,7,8])]>=threshold_HSI)&(SM_de1[np.in1d(mon_era5_all,[6,7,8])]<=threshold_SM)]\n",
    "\n",
    "HSI_index_year1 = []\n",
    "HSI_index_year2 = []\n",
    "HSI_year_year2 = []\n",
    "for i in range(1979,2021):\n",
    "    a = HSI_de1[np.in1d(mon_era5_all,[6,7,8])&np.in1d(year_era5_all,i)]\n",
    "    \n",
    "    HSI_index_year1.append(len(a[a>=threshold_HSI]))\n",
    "\n",
    "    HSI_index_year2.append(np.nanmean(a[a>=threshold_HSI]))\n",
    "\n",
    "\n",
    "SM_index_year1 = []\n",
    "SM_index_year2 = []\n",
    "for i in range(1979,2021):\n",
    "    a = SM_de1[np.in1d(mon_era5_all,[6,7,8])&np.in1d(year_era5_all,i)]\n",
    "    SM_index_year1.append(len(a[a<=threshold_SM]))\n",
    "    SM_index_year2.append(np.nanmean(a[a<=threshold_SM]))"
   ]
  },
  {
   "cell_type": "code",
   "execution_count": 21,
   "metadata": {},
   "outputs": [],
   "source": [
    "from matplotlib.ticker import FormatStrFormatter\n",
    "import pymannkendall as mk"
   ]
  },
  {
   "cell_type": "code",
   "execution_count": 22,
   "metadata": {},
   "outputs": [
    {
     "name": "stdout",
     "output_type": "stream",
     "text": [
      "Mann_Kendall_Test(trend='increasing', h=True, p=0.0006629657697163616, z=3.404453540200043, Tau=0.32984901277584205, s=284.0, var_s=6910.0, slope=0.0, intercept=0.0)\n",
      "Mann_Kendall_Test(trend='no trend', h=False, p=0.8337352412499333, z=0.20991342856239587, Tau=0.04093567251461988, s=7.0, var_s=817.0, slope=0.0017761031093542102, intercept=5.584886160134569)\n"
     ]
    }
   ],
   "source": [
    "print(mk.original_test(HSI_index_year1))\n",
    "print(mk.original_test(HSI_index_year2))\n",
    "a1,b1 = mk.original_test(HSI_index_year2)[7:9]"
   ]
  },
  {
   "cell_type": "code",
   "execution_count": 23,
   "metadata": {},
   "outputs": [
    {
     "name": "stdout",
     "output_type": "stream",
     "text": [
      "Intel MKL WARNING: Support of Intel(R) Streaming SIMD Extensions 4.2 (Intel(R) SSE4.2) enabled only processors has been deprecated. Intel oneAPI Math Kernel Library 2025.0 will require Intel(R) Advanced Vector Extensions (Intel(R) AVX) instructions.\n",
      "LinregressResult(slope=0.05526294465602463, intercept=-109.5458768873403, rvalue=0.4578285304399975, pvalue=0.0022985136087321756, stderr=0.016967690209594537, intercept_stderr=33.9275199333205)\n",
      "Intel MKL WARNING: Support of Intel(R) Streaming SIMD Extensions 4.2 (Intel(R) SSE4.2) enabled only processors has been deprecated. Intel oneAPI Math Kernel Library 2025.0 will require Intel(R) Advanced Vector Extensions (Intel(R) AVX) instructions.\n",
      "LinregressResult(slope=0.00022477869236558345, intercept=5.329065458293399, rvalue=0.005307283567859386, pvalue=0.9827962462457023, stderr=0.010271935190630159, intercept_stderr=20.61341315717405)\n",
      "Intel MKL WARNING: Support of Intel(R) Streaming SIMD Extensions 4.2 (Intel(R) SSE4.2) enabled only processors has been deprecated. Intel oneAPI Math Kernel Library 2025.0 will require Intel(R) Advanced Vector Extensions (Intel(R) AVX) instructions.\n",
      "Intel MKL WARNING: Support of Intel(R) Streaming SIMD Extensions 4.2 (Intel(R) SSE4.2) enabled only processors has been deprecated. Intel oneAPI Math Kernel Library 2025.0 will require Intel(R) Advanced Vector Extensions (Intel(R) AVX) instructions.\n"
     ]
    }
   ],
   "source": [
    "print(stats.linregress(np.arange(1979,2021),HSI_index_year1))\n",
    "a1,b1 =stats.linregress(np.arange(1979,2021),HSI_index_year1)[:2]\n",
    "print(stats.linregress(np.arange(1979,2021)[~np.isnan(np.array(HSI_index_year2))],np.array(HSI_index_year2)[~np.isnan(np.array(HSI_index_year2))]))\n",
    "a2,b2 = stats.linregress(np.arange(1979,2021)[~np.isnan(np.array(HSI_index_year2))],np.array(HSI_index_year2)[~np.isnan(np.array(HSI_index_year2))])[:2]"
   ]
  },
  {
   "cell_type": "markdown",
   "metadata": {},
   "source": [
    "# Fig 1"
   ]
  },
  {
   "cell_type": "code",
   "execution_count": 24,
   "metadata": {},
   "outputs": [
    {
     "data": {
      "image/png": "[encoded data removed]",
      "text/plain": [
       "<Figure size 500x400 with 1 Axes>"
      ]
     },
     "metadata": {},
     "output_type": "display_data"
    }
   ],
   "source": [
    "fig= plt.figure(figsize=(5, 4))\n",
    "ax = plt.axes([0.1, 0.1, 0.9, 0.9])\n",
    "lns1 = ax.bar(range(1979,2021),HSI_index_year1,alpha=0.5,color='red',label='Frequency of hot extremes')\n",
    "# ax1 = ax.twinx()\n",
    "# lns2 = ax1.scatter(range(1979,2021) ,HSI_index_year2,label='Magnitude',c='red')\n",
    "ax.yaxis.set_major_formatter(FormatStrFormatter('%1d'))\n",
    "# ax1.yaxis.set_major_formatter(FormatStrFormatter('%.1f'))\n",
    "ax.plot(range(1979,2021),range(1979,2021)*a1+b1,c='red',linestyle='-',alpha=0.5)\n",
    "# ax1.plot(range(1979,2021),range(1979,2021)*a2+b2,c='red',linestyle='--',alpha=0.5)\n",
    "# lns = lns1+lns2\n",
    "# labs = [l.get_label() for l in lns]\n",
    "# ax.legend(lns, labs, loc=0)\n",
    "#ax.grid()\n",
    "lines, labels = ax.get_legend_handles_labels()\n",
    "# lines2, labels2 = ax1.get_legend_handles_labels()\n",
    "ax.legend(lines, labels, loc=0)\n",
    "\n",
    "# ax1.set_ylim(5,7)\n",
    "ax.set_ylim(0,5.5)\n",
    "ax.set_ylabel('Frequqncy of hot extremes')\n",
    "# ax1.set_ylabel('Magnitude of hot extremes (K)')\n",
    "\n",
    "fig.savefig(u'Fig1c.t_trend_frequency.jpg',bbox_inches = 'tight',pad_inches = 0.15, dpi=200) "
   ]
  },
  {
   "cell_type": "code",
   "execution_count": 25,
   "metadata": {},
   "outputs": [
    {
     "data": {
      "image/png": "[encoded data removed]",
      "text/plain": [
       "<Figure size 500x400 with 1 Axes>"
      ]
     },
     "metadata": {},
     "output_type": "display_data"
    }
   ],
   "source": [
    "fig= plt.figure(figsize=(5, 4))\n",
    "ax = plt.axes([0.1, 0.1, 0.9, 0.9])\n",
    "\n",
    "lns2 = ax.scatter(range(1979,2021) ,HSI_index_year2,label='Magnitude of hot extremes',c='red')\n",
    "ax.yaxis.set_major_formatter(FormatStrFormatter('%.1f'))\n",
    "\n",
    "ax.plot(range(1979,2021),range(1979,2021)*a2+b2,c='red',linestyle='--',alpha=0.5)\n",
    "\n",
    "lines, labels = ax.get_legend_handles_labels()\n",
    "\n",
    "ax.legend(lines , labels , loc=0)\n",
    "\n",
    "\n",
    "ax.set_ylim(5,7)\n",
    "ax.set_ylabel('Magnitude of hot extremes (K)')\n",
    "\n",
    "\n",
    "fig.savefig(u'Fig1c.t_trend_Magnitude.jpg',bbox_inches = 'tight',pad_inches = 0.15, dpi=200) "
   ]
  },
  {
   "cell_type": "code",
   "execution_count": 26,
   "metadata": {},
   "outputs": [
    {
     "name": "stdout",
     "output_type": "stream",
     "text": [
      "Mann_Kendall_Test(trend='no trend', h=False, p=0.2400762932730487, z=1.174796118843178, Tau=0.11962833914053426, s=103.0, var_s=7538.333333333333, slope=0.0, intercept=1.0)\n",
      "Mann_Kendall_Test(trend='decreasing', h=True, p=0.026505643985675675, z=-2.218721990860341, Tau=-0.32, s=-96.0, var_s=1833.3333333333333, slope=-0.02116312440529227, intercept=-3.715410718155474)\n"
     ]
    }
   ],
   "source": [
    "print(mk.original_test(SM_index_year1))\n",
    "print(mk.original_test(SM_index_year2))\n",
    "a1,b1 = mk.original_test(SM_index_year2)[7:9]"
   ]
  },
  {
   "cell_type": "code",
   "execution_count": 27,
   "metadata": {},
   "outputs": [
    {
     "name": "stdout",
     "output_type": "stream",
     "text": [
      "LinregressResult(slope=0.01766469491937444, intercept=-34.368176538908244, rvalue=0.21966150643896598, pvalue=0.16218911872012257, stderr=0.012404617067324016, intercept_stderr=24.803487547106748)Intel MKL WARNING: Support of Intel(R) Streaming SIMD Extensions 4.2 (Intel(R) SSE4.2) enabled only processors has been deprecated. Intel oneAPI Math Kernel Library 2025.0 will require Intel(R) Advanced Vector Extensions (Intel(R) AVX) instructions.\n",
      "\n",
      "Intel MKL WARNING: Support of Intel(R) Streaming SIMD Extensions 4.2 (Intel(R) SSE4.2) enabled only processors has been deprecated. Intel oneAPI Math Kernel Library 2025.0 will require Intel(R) Advanced Vector Extensions (Intel(R) AVX) instructions.\n",
      "LinregressResult(slope=-0.020000552114526924, intercept=35.73939195652772, rvalue=-0.45542396566476223, pvalue=0.02215370926200088, stderr=0.008152413684796023, intercept_stderr=16.307370642784083)\n",
      "Intel MKL WARNING: Support of Intel(R) Streaming SIMD Extensions 4.2 (Intel(R) SSE4.2) enabled only processors has been deprecated. Intel oneAPI Math Kernel Library 2025.0 will require Intel(R) Advanced Vector Extensions (Intel(R) AVX) instructions.\n",
      "Intel MKL WARNING: Support of Intel(R) Streaming SIMD Extensions 4.2 (Intel(R) SSE4.2) enabled only processors has been deprecated. Intel oneAPI Math Kernel Library 2025.0 will require Intel(R) Advanced Vector Extensions (Intel(R) AVX) instructions.\n"
     ]
    }
   ],
   "source": [
    "print(stats.linregress(np.arange(1979,2021),SM_index_year1))\n",
    "a1,b1 =stats.linregress(np.arange(1979,2021),SM_index_year1)[:2]\n",
    "print(stats.linregress(np.arange(1979,2021)[~np.isnan(np.array(SM_index_year2))],np.array(SM_index_year2)[~np.isnan(np.array(SM_index_year2))]))\n",
    "a2,b2 = stats.linregress(np.arange(1979,2021)[~np.isnan(np.array(SM_index_year2))],np.array(SM_index_year2)[~np.isnan(np.array(SM_index_year2))])[:2]"
   ]
  },
  {
   "cell_type": "code",
   "execution_count": 28,
   "metadata": {},
   "outputs": [
    {
     "data": {
      "image/png": "[encoded data removed]",
      "text/plain": [
       "<Figure size 500x400 with 1 Axes>"
      ]
     },
     "metadata": {},
     "output_type": "display_data"
    }
   ],
   "source": [
    "fig= plt.figure(figsize=(5, 4))\n",
    "ax = plt.axes([0.1, 0.1, 0.9, 0.9])\n",
    "lns1 = ax.bar(range(1979,2021),SM_index_year1,alpha=0.5,color='orange',label='Frequency of dry extremes')\n",
    "# ax1 = ax.twinx()\n",
    "# lns2 = ax1.scatter(range(1979,2021),SM_index_year2,label='Magnitude',c='red')\n",
    "ax.yaxis.set_major_formatter(FormatStrFormatter('%1d'))\n",
    "# ax1.yaxis.set_major_formatter(FormatStrFormatter('%.1f'))\n",
    "ax.plot(range(1979,2021),range(1979,2021)*a1+b1,c='orange',linestyle='--',alpha=0.5)\n",
    "# ax1.plot(range(1979,2021),np.arange(1979,2021)*a2+b2,c='red',linestyle='-',alpha=0.5)\n",
    "# lns = lns1+lns2\n",
    "# labs = [l.get_label() for l in lns]\n",
    "# ax.legend(lns, labs, loc=0)\n",
    "\n",
    "lines, labels = ax.get_legend_handles_labels()\n",
    "# lines2, labels2 = ax1.get_legend_handles_labels()\n",
    "ax.legend(lines , labels , loc=0)\n",
    "\n",
    "# ax1.set_ylim(-5.5,-3)\n",
    "ax.set_ylabel('Frequqncy of dry extremes')\n",
    "# ax1.set_ylabel('Magnitude of dry extremes (mm/d)')\n",
    "\n",
    "fig.savefig(u'Fig1d.WSD_trend_Frequency.jpg',bbox_inches = 'tight',pad_inches = 0.15, dpi=200) \n",
    "\n"
   ]
  },
  {
   "cell_type": "code",
   "execution_count": 29,
   "metadata": {},
   "outputs": [
    {
     "data": {
      "image/png": "[encoded data removed]",
      "text/plain": [
       "<Figure size 500x400 with 1 Axes>"
      ]
     },
     "metadata": {},
     "output_type": "display_data"
    }
   ],
   "source": [
    "fig= plt.figure(figsize=(5, 4))\n",
    "ax = plt.axes([0.1, 0.1, 0.9, 0.9])\n",
    "# lns1 = ax.bar(range(1979,2021),SM_index_year1,alpha=0.5,color='orange',label='Frequency')\n",
    "# ax1 = ax.twinx()\n",
    "lns2 = ax.scatter(range(1979,2021),SM_index_year2,label='Magnitude of dry extremes',c='orange')\n",
    "ax.yaxis.set_major_formatter(FormatStrFormatter('%.1f'))\n",
    "# ax1.yaxis.set_major_formatter(FormatStrFormatter('%.1f'))\n",
    "# ax.plot(range(1979,2021),range(1979,2021)*a1+b1,c='orange',linestyle='--',alpha=0.5)\n",
    "ax.plot(range(1979,2021),np.arange(1979,2021)*a2+b2,c='orange',linestyle='-',alpha=0.5)\n",
    "# lns = lns1+lns2\n",
    "# labs = [l.get_label() for l in lns]\n",
    "# ax.legend(lns, labs, loc=0)\n",
    "\n",
    "# lines, labels = ax.get_legend_handles_labels()\n",
    "lines2, labels2 = ax.get_legend_handles_labels()\n",
    "ax.legend(lines2,  labels2, loc=0)\n",
    "\n",
    "ax.set_ylim(-5.5,-3)\n",
    "# ax.set_ylabel('Frequqncy of dry extremes')\n",
    "ax.set_ylabel('Magnitude of dry extremes (mm/d)')\n",
    "\n",
    "fig.savefig(u'Fig1d.WSD_trend_Magtitude.jpg',bbox_inches = 'tight',pad_inches = 0.15, dpi=200) \n",
    "\n"
   ]
  }
 ],
 "metadata": {
  "kernelspec": {
   "display_name": "Python 3.9.18 ('base')",
   "language": "python",
   "name": "python3"
  },
  "language_info": {
   "codemirror_mode": {
    "name": "ipython",
    "version": 3
   },
   "file_extension": ".py",
   "mimetype": "text/x-python",
   "name": "python",
   "nbconvert_exporter": "python",
   "pygments_lexer": "ipython3",
   "version": "3.9.18"
  },
  "orig_nbformat": 4,
  "vscode": {
   "interpreter": {
    "hash": "28f867054c609d38b93e9e04b6f5299cda9e1c6971adcff8e135ee49a4137d7b"
   }
  }
 },
 "nbformat": 4,
 "nbformat_minor": 2
}
